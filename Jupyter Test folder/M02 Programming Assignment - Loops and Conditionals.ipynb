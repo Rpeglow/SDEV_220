{
 "cells": [
  {
   "cell_type": "code",
   "execution_count": 1,
   "id": "ccf11e7b",
   "metadata": {},
   "outputs": [
    {
     "name": "stdout",
     "output_type": "stream",
     "text": [
      "too low\n"
     ]
    }
   ],
   "source": [
    "\"\"\"4.1 Choose a number between 1 and 10 and assign it to the variable secret. \n",
    "Then, select another number between 1 and 10 and assign it to the variable guess. \n",
    "Next, write the conditional tests (if, else, and elif) to print the string 'too low' \n",
    "if guess is less than secret, 'too high' \n",
    "if greater than secret, \n",
    "and 'just right' if equal to secret.\"\"\"\n",
    "\n",
    "#initialze variables with values\n",
    "secret = 5\n",
    "guess = 1\n",
    "\n",
    "#compare guess to secret, first checking if correct, then if too low, and if false to previous steps it will print too high\n",
    "if guess == secret:\n",
    "    print(\"just right\")\n",
    "elif guess < secret:\n",
    "    print(\"too low\")\n",
    "else:\n",
    "    print(\"too high\")\n"
   ]
  },
  {
   "cell_type": "code",
   "execution_count": 12,
   "id": "d3dbe06e",
   "metadata": {},
   "outputs": [
    {
     "name": "stdout",
     "output_type": "stream",
     "text": [
      "I am a pumpkin!\n"
     ]
    }
   ],
   "source": [
    "\"\"\"4.2 Assign True or False to the variables small and green.\n",
    "Write some if/else statements to print which of these matches those choices: \n",
    "cherry, pea, watermelon, pumpkin.\"\"\"\n",
    "\n",
    "#intitalze booleans with values\n",
    "small = False\n",
    "green = False\n",
    "\n",
    "# compare first if item is small, then small and green.\n",
    "if small:\n",
    "    if green:\n",
    "        print(\"I am a pea!\")\n",
    "    else:\n",
    "        print(\"I am a cherry!\")\n",
    "# result if not small, checked against then if green.\n",
    "else:\n",
    "    if green :\n",
    "        print(\"I am a watermelon!\")\n",
    "    else:\n",
    "        print(\"I am a pumpkin!\")"
   ]
  },
  {
   "cell_type": "code",
   "execution_count": 13,
   "id": "540aa9a8",
   "metadata": {},
   "outputs": [
    {
     "name": "stdout",
     "output_type": "stream",
     "text": [
      "3\n",
      "2\n",
      "1\n",
      "0\n"
     ]
    }
   ],
   "source": [
    "\"\"\"6.1 Use a for loop to print the values of the list [3, 2, 1, 0].\"\"\"\n",
    "#intialize list variable\n",
    "list = [3,2,1,0]\n",
    "for x in list:#iterate through list printing each item\n",
    "    print(x)"
   ]
  },
  {
   "cell_type": "code",
   "execution_count": 18,
   "id": "6b9fd734",
   "metadata": {
    "scrolled": true
   },
   "outputs": [
    {
     "name": "stdout",
     "output_type": "stream",
     "text": [
      "too low\n",
      "too low\n",
      "too low\n",
      "too low\n",
      "too low\n",
      "too low\n",
      "found it!\n"
     ]
    }
   ],
   "source": [
    "\"\"\"6.2 Assign the value 7 to the variable guess_me, and the value 1 to the variable number.\n",
    "Write a while loop that compares number with guess_me. \n",
    "Print 'too low' if number is less than guess me. \n",
    "If number equals guess_me, print 'found it!' and then exit the loop. \n",
    "If number is greater than guess_me, print 'oops' and then exit the loop. \n",
    "Increment number at the end of the loop.\"\"\"\n",
    "\n",
    "#initialize variables with values\n",
    "guess_me = 7\n",
    "number = 1\n",
    "\n",
    "# if guessed correctly on the first try\n",
    "if number == guess_me:\n",
    "    print(\"found it!\")\n",
    "#while loop will add one if guessed number is lower than secret number until it reaches the correct number. \n",
    "#if guessed number is higher than secret number the program error's a message and quits.\n",
    "while number != guess_me:\n",
    "    \n",
    "    if number < guess_me:\n",
    "        print (\"too low\")\n",
    "        number += 1\n",
    "    if number > guess_me:\n",
    "        print (\"oops\")\n",
    "        break\n",
    "    if number == guess_me:\n",
    "        print (\"found it!\")"
   ]
  },
  {
   "cell_type": "code",
   "execution_count": 19,
   "id": "c6b11535",
   "metadata": {},
   "outputs": [
    {
     "name": "stdout",
     "output_type": "stream",
     "text": [
      "too low\n",
      "too low\n",
      "too low\n",
      "too low\n",
      "too low\n",
      "found it!\n"
     ]
    }
   ],
   "source": [
    "\"\"\"6.3 Assign the value 5 to the variable guess_me. \n",
    "Use a for loop to iterate a variable called number over range(10).\n",
    "If number is less than guess_me, print 'too low'. \n",
    "If it equals guess_me, print found it! and then break out of the for loop. \n",
    "If number is greater than guess_me, print 'oops' and then exit the loop.\"\"\"\n",
    "\n",
    "#initialize variable with value\n",
    "guess_me = 5\n",
    "# iterate through range of 0-10 comparing to guess me variable adding when low until found.\n",
    "# if guess is above 10 an error message displays and program quits\n",
    "for number in range(10):\n",
    "    if number == guess_me:\n",
    "        print(\"found it!\")\n",
    "        break\n",
    "    if number > guess_me:\n",
    "        print(\"opps\")\n",
    "        break\n",
    "    if number < guess_me:\n",
    "        print(\"too low\")"
   ]
  }
 ],
 "metadata": {
  "kernelspec": {
   "display_name": "Python 3 (ipykernel)",
   "language": "python",
   "name": "python3"
  },
  "language_info": {
   "codemirror_mode": {
    "name": "ipython",
    "version": 3
   },
   "file_extension": ".py",
   "mimetype": "text/x-python",
   "name": "python",
   "nbconvert_exporter": "python",
   "pygments_lexer": "ipython3",
   "version": "3.9.13"
  }
 },
 "nbformat": 4,
 "nbformat_minor": 5
}
