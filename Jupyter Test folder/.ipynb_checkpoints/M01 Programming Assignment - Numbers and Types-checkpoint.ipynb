{
 "cells": [
  {
   "cell_type": "code",
   "execution_count": 23,
   "id": "fe73a034",
   "metadata": {},
   "outputs": [
    {
     "name": "stdout",
     "output_type": "stream",
     "text": [
      "There are 3600 seconds in an hour.\n"
     ]
    }
   ],
   "source": [
    "\"\"\"3.1 How many seconds are in an hour? Use the interactive interpreter as a calculator and multiply the number of seconds in a minute (60) by the number of minutes in an hour (also 60).\n",
    "\"\"\"\n",
    "print(\"There are\", 60 * 60, \"seconds in an hour.\")"
   ]
  },
  {
   "cell_type": "code",
   "execution_count": 24,
   "id": "3fc15849",
   "metadata": {},
   "outputs": [],
   "source": [
    "\"\"\"3.2 Assign the result from the previous task (seconds in an hour) to a variable called seconds_per_hour.\"\"\"\n",
    "seconds_per_hour = 60 * 60"
   ]
  },
  {
   "cell_type": "code",
   "execution_count": 25,
   "id": "17ff48ab",
   "metadata": {},
   "outputs": [
    {
     "name": "stdout",
     "output_type": "stream",
     "text": [
      "There are 86400 seconds in a day.\n"
     ]
    }
   ],
   "source": [
    "\"\"\"3.3 How many seconds are in a day? Use your seconds_per_hour variable.\"\"\"\n",
    "print(\"There are\",seconds_per_hour * 24,\"seconds in a day.\")"
   ]
  },
  {
   "cell_type": "code",
   "execution_count": 26,
   "id": "5c5b86b9",
   "metadata": {},
   "outputs": [],
   "source": [
    "\"\"\"3.4 Calculate seconds per day again, but this time save the result in a variable called seconds_per_day.\"\"\"\n",
    "seconds_per_day = seconds_per_hour * 24"
   ]
  },
  {
   "cell_type": "code",
   "execution_count": 27,
   "id": "6927acec",
   "metadata": {
    "scrolled": false
   },
   "outputs": [
    {
     "data": {
      "text/plain": [
       "24.0"
      ]
     },
     "execution_count": 27,
     "metadata": {},
     "output_type": "execute_result"
    }
   ],
   "source": [
    "\"\"\"3.5 Divide seconds_per_day by seconds_per_hour. Use floating-point (/) division.\"\"\"\n",
    "seconds_per_day / seconds_per_hour"
   ]
  },
  {
   "cell_type": "code",
   "execution_count": 28,
   "id": "0cb41a17",
   "metadata": {},
   "outputs": [
    {
     "name": "stdout",
     "output_type": "stream",
     "text": [
      "These numbers agree with the value from the previous question.\n"
     ]
    }
   ],
   "source": [
    "\"\"\"3.6 Divide seconds_per_day by seconds_per_hour, using integer (//) division. Did this number agree with the floating-point value from the previous question, aside from the final .0?\"\"\"\n",
    "double_sign = seconds_per_day // seconds_per_hour\n",
    "\n",
    "single_sign = seconds_per_day / seconds_per_hour\n",
    "if double_sign == single_sign:\n",
    "    print(\"These numbers agree with the value from the previous question.\")\n",
    "else:\n",
    "    print(\"These numbers don't agree with the value from the previous question.\")\n"
   ]
  }
 ],
 "metadata": {
  "kernelspec": {
   "display_name": "Python 3 (ipykernel)",
   "language": "python",
   "name": "python3"
  },
  "language_info": {
   "codemirror_mode": {
    "name": "ipython",
    "version": 3
   },
   "file_extension": ".py",
   "mimetype": "text/x-python",
   "name": "python",
   "nbconvert_exporter": "python",
   "pygments_lexer": "ipython3",
   "version": "3.9.13"
  }
 },
 "nbformat": 4,
 "nbformat_minor": 5
}
