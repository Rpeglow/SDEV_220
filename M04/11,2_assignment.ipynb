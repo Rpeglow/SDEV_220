{
 "cells": [
  {
   "cell_type": "code",
   "execution_count": null,
   "id": "726b4cb3",
   "metadata": {},
   "outputs": [],
   "source": [
    "#11.2 In the interactive interpreter, import the zoo module as menagerie and call its hours() function.\n",
    "\n",
    "import zoo as menagerie   #import zoo but calling it something else \n",
    "\n",
    "menagerie.hours()          #running \"zoo\" function wtih new name"
   ]
  }
 ],
 "metadata": {
  "kernelspec": {
   "display_name": "Python 3 (ipykernel)",
   "language": "python",
   "name": "python3"
  },
  "language_info": {
   "codemirror_mode": {
    "name": "ipython",
    "version": 3
   },
   "file_extension": ".py",
   "mimetype": "text/x-python",
   "name": "python",
   "nbconvert_exporter": "python",
   "pygments_lexer": "ipython3",
   "version": "3.9.13"
  }
 },
 "nbformat": 4,
 "nbformat_minor": 5
}
