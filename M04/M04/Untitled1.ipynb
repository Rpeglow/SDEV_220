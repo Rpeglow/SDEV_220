{
 "cells": [
  {
   "cell_type": "code",
   "execution_count": null,
   "id": "075ef23f",
   "metadata": {},
   "outputs": [],
   "source": [
    "\"\"\"\"\n",
    "Reed Peglow\n",
    "SDEV 220\n",
    "M04 Programming Assignment - Modules and Databases\n",
    "section 1\"\"\"\n",
    "\n",
    "# create function to be imported in 11,1 calling for hours()\n",
    "def hours():\n",
    "    print(\"open 9-5 daily\")"
   ]
  }
 ],
 "metadata": {
  "kernelspec": {
   "display_name": "Python 3 (ipykernel)",
   "language": "python",
   "name": "python3"
  },
  "language_info": {
   "codemirror_mode": {
    "name": "ipython",
    "version": 3
   },
   "file_extension": ".py",
   "mimetype": "text/x-python",
   "name": "python",
   "nbconvert_exporter": "python",
   "pygments_lexer": "ipython3",
   "version": "3.9.13"
  }
 },
 "nbformat": 4,
 "nbformat_minor": 5
}
