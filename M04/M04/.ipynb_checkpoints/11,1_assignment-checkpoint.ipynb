{
 "cells": [
  {
   "cell_type": "code",
   "execution_count": null,
   "id": "0e07ec49",
   "metadata": {},
   "outputs": [],
   "source": [
    "#11.1 Make a file called zoo.py. \n",
    "#In it, define a function called hours that prints the string 'Open 9-5 daily'. \n",
    "#Then, use the interactive interpreter to import the zoo module and call its hours function.\n",
    "\n",
    "import zoo   #import zoo from script\n",
    "\n",
    "zoo.hours()   #call function of zoo "
   ]
  }
 ],
 "metadata": {
  "kernelspec": {
   "display_name": "Python 3 (ipykernel)",
   "language": "python",
   "name": "python3"
  },
  "language_info": {
   "codemirror_mode": {
    "name": "ipython",
    "version": 3
   },
   "file_extension": ".py",
   "mimetype": "text/x-python",
   "name": "python",
   "nbconvert_exporter": "python",
   "pygments_lexer": "ipython3",
   "version": "3.9.13"
  }
 },
 "nbformat": 4,
 "nbformat_minor": 5
}
