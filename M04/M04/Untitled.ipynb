{
 "cells": [
  {
   "cell_type": "code",
   "execution_count": null,
   "id": "a54d8592",
   "metadata": {},
   "outputs": [],
   "source": [
    "\"\"\"\n",
    "Reed Peglow\n",
    "SDEV 220\n",
    "M04 Programming Assignment - Modules and Databases\n",
    "Section 16\"\"\"\n",
    "\n",
    "\n",
    "#16.3 Create a CSV file called books2.csv by using these lines:\n",
    "\n",
    "book_info = \"\"\"title, author, year\n",
    "The Weirdstone of Brisingamen, Alan Garner, 1960\n",
    "Perdido Street Station, China Miéville, 2000\n",
    "Thud!, Terry Practchett, 2005\n",
    "The spellman Files, Lisa Lutz, 2007\n",
    "Small Gods, Terry Preatchett, 1922\n",
    "\"\"\"\n",
    "\n",
    "with open(\"books2.csv\", \"wt\") as outfile:   #context manger\n",
    "    outfile.write(book_info)\n",
    "\n",
    "#16.4 Use the sqlite3 module to create a SQLite database called books.db \n",
    "#and a table called books with these fields: title (text), author (text), and year (integer).\n",
    "\n",
    "import sqlite3                               \n",
    "database = sqlite3.connect(\"books.db\")   #connect database to sqlite\n",
    "pointer = database.cursor()              #point at database\n",
    "pointer.execute('''CREATE TABLE book(tittle text, author text, year int)''')  #create staments in SQL\n",
    "database.commit()                        #save\n",
    "\n",
    "#16.5 Read books2.csv and insert its data into the book table.\n",
    "import csv\n",
    "import sqlite3\n",
    "add_data = \"insert its data into the book table(?,?,?)\"     #add data where ? are place holders\n",
    "with open(\"books2.csv\", \"rt\") as infile:                     \n",
    "    books = csv.DictReader(infile)\n",
    "    for book in books:\n",
    "        pointer.execute(add_data, (books[\"title\"], books[\"author\"], books[\"year\"])) #add info from DictReader infile called books\n",
    "        \n",
    "database.commit()     #save\n",
    "\n",
    "#16.8 Use the sqlalchemy module to connect to the sqlite3 database books.db that you just made in exercise 8.6. \n",
    "# As in 8.8, select and print the title column from the book table in alphabetical order.\n",
    "\n",
    "import sqlalchemy\n",
    "connect = sqlalchemy.create_engine(\"sqlite:///books.db\")\n",
    "statements = \"SELECT title FROM book ORDER BY title ASC\"\n",
    "setups = connect.execute(statements)\n",
    "for setup in setups:\n",
    "    print(setup)\n"
   ]
  }
 ],
 "metadata": {
  "kernelspec": {
   "display_name": "Python 3 (ipykernel)",
   "language": "python",
   "name": "python3"
  },
  "language_info": {
   "codemirror_mode": {
    "name": "ipython",
    "version": 3
   },
   "file_extension": ".py",
   "mimetype": "text/x-python",
   "name": "python",
   "nbconvert_exporter": "python",
   "pygments_lexer": "ipython3",
   "version": "3.9.13"
  }
 },
 "nbformat": 4,
 "nbformat_minor": 5
}
