{
 "cells": [
  {
   "cell_type": "code",
   "execution_count": 12,
   "id": "750b3b41",
   "metadata": {},
   "outputs": [
    {
     "data": {
      "text/plain": [
       "datetime.datetime(2023, 4, 28, 0, 0)"
      ]
     },
     "execution_count": 12,
     "metadata": {},
     "output_type": "execute_result"
    }
   ],
   "source": [
    "\"\"\"Reed Peglow\n",
    "SDEV 220\n",
    "M06 Programming Assignment -Concurrency in Python\"\"\"\n",
    "\n",
    "#13.1 Write the current date as a string to the text file today.txt\n",
    "import time\n",
    "from datetime import date          #import date object class from datetime module\n",
    "from datetime import datetime      #imort datetime object from datetime\n",
    "\n",
    "what_date = date.today()             # use .today() to store date information is variable\n",
    "\n",
    "what_date_now = what_date.isoformat()#converts to ISO international standard date format\n",
    "\n",
    "with open(\"today.txt\", 'wt') as output: #opens file to write text as output to today.txt\n",
    "    print(what_date, file=output)\n",
    "    \n",
    "#13.2 Read the text file today.txt into the string today_string\n",
    "\n",
    "with open('today.txt', 'rt') as input:  #opens today.txt in text read mode as input\n",
    "    today_str = input.read()            #using input function read to store date in variable\n",
    "    \n",
    "#13.3 Parse the date from today_string\n",
    "company_standard_time = \"%Y-%m-%d\\n\"    #format for how a business may want their date formated year,month,day\n",
    "datetime.strptime(today_str,company_standard_time) #converts string to correct format of date, setting time to midnight/ignoring time\n"
   ]
  },
  {
   "cell_type": "code",
   "execution_count": 15,
   "id": "79b3c2d8",
   "metadata": {},
   "outputs": [],
   "source": [
    "#15.1 Use multiprocessing to create three separate processes. \n",
    "#Make each one wait a random number of seconds between zero and one,\n",
    "#print the current time, and then exit.\n",
    "\n",
    "\n",
    "import multiprocessing              #module to create multiple independent processes\n",
    "\n",
    "def trigger(seconds):               #function take one arg a random number assigned later\n",
    "    from datetime import datetime   #import modules for use in function\n",
    "    from time import sleep\n",
    "    sleep(seconds)                  #waiting method used with assigned wait time\n",
    "    print('wait', seconds, 'seconds, time is', datetime.utcnow())  #print of wait time used and current time\n",
    "    \n",
    "if __name__=='__main__':             #main program setup\n",
    "    import random                    #number generator\n",
    "    for x in range(3):               # for loop cycles 3 range\n",
    "        seconds = random.random()    #assign random to be used as args in earlier function\n",
    "        p = multiprocessing.Process(target=trigger, args=(seconds,)) #Process() started 3 new process and ran function \"trigger\"\n",
    "        p.start() #run "
   ]
  },
  {
   "cell_type": "code",
   "execution_count": null,
   "id": "e0e2fe8c",
   "metadata": {},
   "outputs": [],
   "source": []
  }
 ],
 "metadata": {
  "kernelspec": {
   "display_name": "Python 3 (ipykernel)",
   "language": "python",
   "name": "python3"
  },
  "language_info": {
   "codemirror_mode": {
    "name": "ipython",
    "version": 3
   },
   "file_extension": ".py",
   "mimetype": "text/x-python",
   "name": "python",
   "nbconvert_exporter": "python",
   "pygments_lexer": "ipython3",
   "version": "3.9.13"
  }
 },
 "nbformat": 4,
 "nbformat_minor": 5
}
