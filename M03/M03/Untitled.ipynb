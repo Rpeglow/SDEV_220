{
 "cells": [
  {
   "cell_type": "code",
   "execution_count": 21,
   "id": "87121abf",
   "metadata": {},
   "outputs": [
    {
     "name": "stdout",
     "output_type": "stream",
     "text": [
      "<class '__main__.Thing'>\n",
      "<class '__main__.Thing'>\n",
      "example and class 'thing' point at the same object location\n"
     ]
    }
   ],
   "source": [
    "\"\"\"\n",
    "Reed Peglow\n",
    "SDEV 220\n",
    "M03 Tutorial - Functional vs OOP Programming\n",
    "\"\"\"\n",
    "#10.1 Make a class called Thing with no contents and print it. \n",
    "#Then, create an object called example from this class and also print it. \n",
    "#Are the printed values the same or different?\n",
    "\n",
    "class Thing: #create class\n",
    "    pass     #min value for a class\n",
    "print(Thing)\n",
    "\n",
    "example = Thing() #variable is object of class thing\n",
    "\n",
    "print(Thing)\n",
    "if isinstance(example,Thing): #Value check fun, print answer\n",
    "    print(\"example and class 'Thing' point at the same object location\")"
   ]
  },
  {
   "cell_type": "code",
   "execution_count": 12,
   "id": "1236263f",
   "metadata": {},
   "outputs": [],
   "source": [
    "#10.4 Make a class called Element, with instance attributes name, symbol, and number. \n",
    "#Create an object called hydrogen of this class with the values 'Hydrogen', 'H', and 1.\n",
    "\n",
    "class Element:\n",
    "    def __init__(self, name, symbol, number): #used __init__ to intialize attribtes arguments\n",
    "        self.name = name                      #assign input from args to variable forms\n",
    "        self.symbol = symbol\n",
    "        self.number = number\n",
    "    \n",
    "hydrogen = Element(\"Hydrogen\",\"H\",1)          #create object with given attributes (args/peramitors?)"
   ]
  },
  {
   "cell_type": "code",
   "execution_count": 26,
   "id": "085d9309",
   "metadata": {},
   "outputs": [
    {
     "name": "stdout",
     "output_type": "stream",
     "text": [
      "Hydrogen H 1\n"
     ]
    }
   ],
   "source": [
    "#10.5 Make a dictionary with these keys and values: 'name': 'Hydrogen', 'symbol': 'H', 'number': 1. \n",
    "#Then, create an object called hydrogen from class Element using this dictionary.\n",
    "\n",
    "Element_dict = {\"name\":\"Hydrogen\", \"symbol\":\"H\", \"number\":1} #given dictionary\n",
    "\n",
    "\n",
    "hydrogen = Element(Element_dict[\"name\"], Element_dict[\"symbol\"],Element_dict[\"number\"]) #object \"variable hydrogen\" given attributes from dictionary\n",
    "\n",
    "print(hydrogen.name, hydrogen.symbol, hydrogen.number) #checked that it worked with print\n"
   ]
  },
  {
   "cell_type": "code",
   "execution_count": 32,
   "id": "fa2eee59",
   "metadata": {},
   "outputs": [
    {
     "name": "stdout",
     "output_type": "stream",
     "text": [
      "berries\n",
      "clover\n",
      "campers\n"
     ]
    }
   ],
   "source": [
    "#10.9 Define three classes: Bear, Rabbit, and Octothorpe. \n",
    "#For each, define only one method: eats(). \n",
    "#This should return 'berries' (Bear), 'clover' (Rabbit), and 'campers' (Octothorpe). \n",
    "#Create one object from each and print what it eats.\n",
    "\n",
    "class Bear:                    \n",
    "    def eats(self):\n",
    "        return \"berries\"           \n",
    "    \n",
    "class Rabbit:\n",
    "    def eats(self):\n",
    "        return \"clover\"\n",
    "    \n",
    "class Octothorpe:\n",
    "    def eats(self):\n",
    "        return \"campers\"\n",
    "    \n",
    "bear = Bear()\n",
    "rabbit = Rabbit()\n",
    "octo_what = Octothorpe()\n",
    "\n",
    "print(bear.eats())\n",
    "print(rabbit.eats())\n",
    "print(octo_what.eats())"
   ]
  },
  {
   "cell_type": "code",
   "execution_count": null,
   "id": "5b270f8b",
   "metadata": {},
   "outputs": [],
   "source": []
  }
 ],
 "metadata": {
  "kernelspec": {
   "display_name": "Python 3 (ipykernel)",
   "language": "python",
   "name": "python3"
  },
  "language_info": {
   "codemirror_mode": {
    "name": "ipython",
    "version": 3
   },
   "file_extension": ".py",
   "mimetype": "text/x-python",
   "name": "python",
   "nbconvert_exporter": "python",
   "pygments_lexer": "ipython3",
   "version": "3.9.13"
  }
 },
 "nbformat": 4,
 "nbformat_minor": 5
}
